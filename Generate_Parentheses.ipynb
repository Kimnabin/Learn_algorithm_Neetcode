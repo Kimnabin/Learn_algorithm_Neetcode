{
 "cells": [
  {
   "cell_type": "markdown",
   "metadata": {},
   "source": [
    "# Generate Parentheses\n",
    "\n",
    "Given n pairs of parentheses, write a function to generate all combinations of well-formed parentheses.\n",
    "\n",
    " \n",
    "\n",
    "Example 1:\n",
    "\n",
    "- `Input: n = 3`\n",
    "- `Output: [\"((()))\",\"(()())\",\"(())()\",\"()(())\",\"()()()\"]`\n",
    "\n",
    "Example 2:\n",
    "\n",
    "- `Input: n = 1`\n",
    "- `Output: [\"()\"]`\n",
    " \n",
    "\n",
    "Constraints:\n",
    "\n",
    "- `1 <= n <= 8`"
   ]
  },
  {
   "cell_type": "code",
   "execution_count": 10,
   "metadata": {},
   "outputs": [
    {
     "name": "stdout",
     "output_type": "stream",
     "text": [
      "['()()()', '()(())', '(())()', '(()())', '((()))']\n",
      "['()']\n"
     ]
    }
   ],
   "source": [
    "class Solution:\n",
    "    def generateParentheses(self, n):\n",
    "        result = []\n",
    "        queue = [(0, 0, '')]  # Khởi tạo hàng đợi với số lượng dấu ngoặc trái, phải và chuỗi hiện tại\n",
    "        \n",
    "        while queue:\n",
    "            left, right, s = queue.pop()\n",
    "            \n",
    "            # Nếu chuỗi đạt độ dài 2*n, thêm vào kết quả\n",
    "            if len(s) == 2 * n:\n",
    "                result.append(s)\n",
    "                continue\n",
    "            \n",
    "            # Nếu số lượng dấu ngoặc trái hiện tại nhỏ hơn n, thêm dấu ngoặc trái mới\n",
    "            if left < n:\n",
    "                queue.append((left + 1, right, s + '('))\n",
    "                \n",
    "            # Nếu số lượng dấu ngoặc phải hiện tại nhỏ hơn số lượng dấu ngoặc trái, thêm dấu ngoặc phải mới\n",
    "            if right < left:\n",
    "                queue.append((left, right + 1, s + ')'))\n",
    "        \n",
    "        return result\n",
    "\n",
    "# Test với n = 3\n",
    "n = 3\n",
    "print(Solution().generateParentheses(n))  # Kết quả mong đợi: [\"((()))\", \"(()())\", \"(())()\", \"()(())\", \"()()()\"]\n",
    "\n",
    "# Test với n = 1\n",
    "n = 1\n",
    "print(Solution().generateParentheses(n))  # Kết quả mong đợi: [\"()\"]\n"
   ]
  },
  {
   "cell_type": "markdown",
   "metadata": {},
   "source": [
    "### Giải thích mã\n",
    "\n",
    "1. **Biến khởi tạo**:\n",
    "   - `result`: Danh sách để lưu trữ các chuỗi kết quả hợp lệ.\n",
    "   - `left`, `right`: Số lượng dấu ngoặc trái và phải hiện có.\n",
    "   - `queue`: Hàng đợi để duyệt các trạng thái, mỗi phần tử trong hàng đợi là một tuple chứa số lượng dấu ngoặc trái, phải và chuỗi hiện tại.\n",
    "\n",
    "2. **Vòng lặp chính**:\n",
    "   - Duyệt qua từng trạng thái trong hàng đợi `q`.\n",
    "   - Nếu độ dài chuỗi hiện tại đạt đến `2*n`, thêm chuỗi đó vào kết quả.\n",
    "   - Nếu số lượng dấu ngoặc trái hiện tại nhỏ hơn `n`, thêm một dấu ngoặc trái mới và cập nhật trạng thái.\n",
    "   - Nếu số lượng dấu ngoặc phải hiện tại nhỏ hơn số lượng dấu ngoặc trái, thêm một dấu ngoặc phải mới và cập nhật trạng thái.\n",
    "\n"
   ]
  }
 ],
 "metadata": {
  "kernelspec": {
   "display_name": "Python 3",
   "language": "python",
   "name": "python3"
  },
  "language_info": {
   "codemirror_mode": {
    "name": "ipython",
    "version": 3
   },
   "file_extension": ".py",
   "mimetype": "text/x-python",
   "name": "python",
   "nbconvert_exporter": "python",
   "pygments_lexer": "ipython3",
   "version": "3.12.2"
  }
 },
 "nbformat": 4,
 "nbformat_minor": 2
}
