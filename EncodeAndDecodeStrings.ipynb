{
 "cells": [
  {
   "cell_type": "markdown",
   "metadata": {},
   "source": [
    "# Encode and Decode Strings\n",
    "String Encode and Decode\n",
    "Design an algorithm to encode a list of strings to a single string. The encoded string is then decoded back to the original list of strings.\n",
    "\n",
    "Please implement encode and decode\n",
    "\n",
    "Example 1:\n",
    "\n",
    "<span style=\"color:red\">Input: [\"neet\",\"code\",\"love\",\"you\"]</span>\n",
    "\n",
    "<span style=\"color:green\">Output:[\"neet\",\"code\",\"love\",\"you\"]</span>\n",
    "\n",
    "\n",
    "Explain\n",
    "Example 2:\n",
    "\n",
    "<span style=\"color:red\">Input: [\"we\",\"say\",\":\",\"yes\"]\n",
    "</span>\n",
    "\n",
    "<span style=\"color:green\">Output: [\"we\",\"say\",\":\",\"yes\"]</span>\n",
    "\n",
    "Explain\n",
    "Constraints:\n",
    "\n",
    "0 <= strs.length < 100 \n",
    "\n",
    "0 <= strs[i].length < 200\n",
    "\n",
    "strs[i] contains only UTF-8 characters. "
   ]
  },
  {
   "cell_type": "code",
   "execution_count": 3,
   "metadata": {},
   "outputs": [],
   "source": [
    "from typing import List\n",
    "\n",
    "class Solution:\n",
    "    \n",
    "    def encode(self, strs: List[str]) -> str:\n",
    "        res = \"\"\n",
    "        for s in strs:\n",
    "            res += str(len(s)) + \"#\" + s\n",
    "        return res\n",
    "\n",
    "    def decode(self, s: str) -> List[str]:\n",
    "        res = []\n",
    "        i = 0\n",
    "        \n",
    "        while i < len(s):\n",
    "            j = i\n",
    "            while s[j] != '#':\n",
    "                j += 1\n",
    "            length = int(s[i:j])\n",
    "            i = j + 1\n",
    "            j = i + length\n",
    "            res.append(s[i:j])\n",
    "            i = j\n",
    "            \n",
    "        return res\n"
   ]
  },
  {
   "cell_type": "code",
   "execution_count": 6,
   "metadata": {},
   "outputs": [
    {
     "name": "stdout",
     "output_type": "stream",
     "text": [
      "4#neet4#code4#love3#you\n",
      "----------------------------------------------------------------\n",
      "['neet', 'code', 'love', 'you']\n"
     ]
    }
   ],
   "source": [
    "str1 = [\"neet\",\"code\",\"love\",\"you\"]\n",
    "str2 = Solution().encode(str1)\n",
    "print(str2)\n",
    "print('----------------------------------------------------------------')\n",
    "print(Solution().decode(str2))"
   ]
  }
 ],
 "metadata": {
  "kernelspec": {
   "display_name": "Python 3",
   "language": "python",
   "name": "python3"
  },
  "language_info": {
   "codemirror_mode": {
    "name": "ipython",
    "version": 3
   },
   "file_extension": ".py",
   "mimetype": "text/x-python",
   "name": "python",
   "nbconvert_exporter": "python",
   "pygments_lexer": "ipython3",
   "version": "3.12.2"
  }
 },
 "nbformat": 4,
 "nbformat_minor": 2
}
