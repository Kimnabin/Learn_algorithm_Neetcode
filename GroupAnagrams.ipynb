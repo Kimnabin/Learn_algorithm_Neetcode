{
 "cells": [
  {
   "cell_type": "markdown",
   "metadata": {},
   "source": [
    "# Group Anagrams\n",
    "\n",
    "Given an array of strings strs, group the anagrams together. You can return the answer in any order.\n",
    "\n",
    "An Anagram is a word or phrase formed by rearranging the letters of a different word or phrase, typically using all the original letters exactly once.\n",
    "\n",
    " \n",
    "\n",
    "Example 1:\n",
    "\n",
    "Input: strs = [\"eat\",\"tea\",\"tan\",\"ate\",\"nat\",\"bat\"]\n",
    "Output: [[\"bat\"],[\"nat\",\"tan\"],[\"ate\",\"eat\",\"tea\"]]\n",
    "Example 2:\n",
    "\n",
    "Input: strs = [\"\"]\n",
    "Output: [[\"\"]]\n",
    "Example 3:\n",
    "\n",
    "Input: strs = [\"a\"]\n",
    "Output: [[\"a\"]]\n",
    " \n",
    "\n",
    "Constraints:\n",
    "\n",
    "1 <= strs.length <= 104\n",
    "0 <= strs[i].length <= 100\n",
    "strs[i] consists of lowercase English letters."
   ]
  },
  {
   "cell_type": "code",
   "execution_count": 2,
   "metadata": {},
   "outputs": [],
   "source": [
    "class Solution:\n",
    "    def groupAnagrams(self, strs):\n",
    "        d = {}\n",
    "        for s in strs:\n",
    "            key = ''.join(sorted(s))\n",
    "            if key in d:\n",
    "                d[key].append(s)\n",
    "            else:\n",
    "                d[key] = [s]\n",
    "        return list(d.values()) "
   ]
  },
  {
   "cell_type": "code",
   "execution_count": 3,
   "metadata": {},
   "outputs": [
    {
     "name": "stdout",
     "output_type": "stream",
     "text": [
      "[['eat', 'tea', 'ate'], ['tan', 'nat'], ['bat']]\n"
     ]
    }
   ],
   "source": [
    "strs = [\"eat\",\"tea\",\"tan\",\"ate\",\"nat\",\"bat\"]\n",
    "print(Solution().groupAnagrams(strs))"
   ]
  },
  {
   "cell_type": "markdown",
   "metadata": {},
   "source": [
    "Đoạn code trên là một phương thức `groupAnagrams` trong lớp `Solution`. Phương thức này nhận vào một danh sách các chuỗi (`strs`) và nhóm các chuỗi có cùng bộ sắp xếp của các ký tự thành các nhóm con.\n",
    "\n",
    "Cách thức hoạt động của phương thức như sau:\n",
    "1. Tạo một từ điển (`d`) để lưu trữ các nhóm con của chuỗi.\n",
    "2. Duyệt qua từng chuỗi (`s`) trong danh sách đầu vào.\n",
    "3. Tạo một khóa (`key`) bằng cách sắp xếp lại các ký tự trong chuỗi `s`.\n",
    "4. Kiểm tra xem khóa `key` đã tồn tại trong từ điển `d` chưa.\n",
    "   - Nếu đã tồn tại, thêm chuỗi `s` vào nhóm tương ứng với khóa `key`.\n",
    "   - Nếu chưa tồn tại, tạo một nhóm mới với chuỗi `s` và gán nhóm này cho khóa `key` trong từ điển `d`.\n",
    "5. Trả về danh sách các nhóm con của chuỗi bằng cách chuyển đổi các giá trị của từ điển `d` thành danh sách.\n",
    "\n",
    "Ví dụ:\n",
    "Nếu đầu vào là `[\"eat\", \"tea\", \"tan\", \"ate\", \"nat\", \"bat\"]`, phương thức sẽ trả về `[['eat', 'tea', 'ate'], ['tan', 'nat'], ['bat']]`. Các chuỗi \"eat\", \"tea\", \"ate\" có cùng bộ sắp xếp của các ký tự và được nhóm lại thành một nhóm con. Tương tự, các chuỗi \"tan\" và \"nat\" cũng được nhóm lại thành một nhóm con. Chuỗi \"bat\" không có chuỗi nào khác có cùng bộ sắp xếp của các ký tự, nên nó được nhóm thành một nhóm con riêng."
   ]
  }
 ],
 "metadata": {
  "kernelspec": {
   "display_name": "Python 3",
   "language": "python",
   "name": "python3"
  },
  "language_info": {
   "codemirror_mode": {
    "name": "ipython",
    "version": 3
   },
   "file_extension": ".py",
   "mimetype": "text/x-python",
   "name": "python",
   "nbconvert_exporter": "python",
   "pygments_lexer": "ipython3",
   "version": "3.12.2"
  }
 },
 "nbformat": 4,
 "nbformat_minor": 2
}
