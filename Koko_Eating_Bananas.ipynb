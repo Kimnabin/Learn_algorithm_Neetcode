{
 "cells": [
  {
   "cell_type": "markdown",
   "metadata": {},
   "source": [
    "# Koko eating bananas\n",
    "\n",
    "Koko loves to eat bananas. There are n piles of bananas, the ith pile has piles[i] bananas. The guards have gone and will come back in h hours.\n",
    "\n",
    "Koko can decide her bananas-per-hour eating speed of k. Each hour, she chooses some pile of bananas and eats k bananas from that pile. If the pile has less than k bananas, she eats all of them instead and will not eat any more bananas during this hour.\n",
    "\n",
    "Koko likes to eat slowly but still wants to finish eating all the bananas before the guards return.\n",
    "\n",
    "Return the minimum integer k such that she can eat all the bananas within h hours.\n",
    "\n",
    " \n",
    "\n",
    "Example 1:\n",
    "\n",
    "    Input: piles = [3,6,7,11], h = 8\n",
    "    Output: 4\n",
    "\n",
    "Example 2:\n",
    "\n",
    "    Input: piles = [30,11,23,4,20], h = 5\n",
    "    Output: 30\n",
    "\n",
    "Example 3:\n",
    "\n",
    "    Input: piles = [30,11,23,4,20], h = 6\n",
    "    Output: 23\n",
    "    \n",
    "\n",
    "Constraints:\n",
    "\n",
    "    1 <= piles.length <= 104\n",
    "    piles.length <= h <= 109\n",
    "    1 <= piles[i] <= 109"
   ]
  },
  {
   "cell_type": "code",
   "execution_count": 1,
   "metadata": {},
   "outputs": [
    {
     "name": "stdout",
     "output_type": "stream",
     "text": [
      "4\n"
     ]
    }
   ],
   "source": [
    "from typing import List\n",
    "\n",
    "class Solution:\n",
    "    def minEatingSpeed(self, piles: List[int], h: int) -> int:\n",
    "        # Hàm hỗ trợ để kiểm tra xem với tốc độ k, Koko có thể ăn hết chuối trong h giờ không\n",
    "        def canEatAll(piles, k, h):\n",
    "            time = 0\n",
    "            for pile in piles:\n",
    "                time += (pile + k - 1) // k  # Tương đương với math.ceil(pile / k)\n",
    "            return time <= h\n",
    "        \n",
    "        low, high = 1, max(piles)\n",
    "        while low < high:\n",
    "            mid = (low + high) // 2\n",
    "            if canEatAll(piles, mid, h):\n",
    "                high = mid  # Thử với tốc độ nhỏ hơn\n",
    "            else:\n",
    "                low = mid + 1  # Tăng tốc độ vì mid quá nhỏ\n",
    "        return low\n",
    "\n",
    "# Ví dụ sử dụng:\n",
    "sol = Solution()\n",
    "piles = [3, 6, 7, 11]\n",
    "h = 8\n",
    "print(sol.minEatingSpeed(piles, h))  # Kết quả: 4\n"
   ]
  },
  {
   "cell_type": "markdown",
   "metadata": {},
   "source": [
    "\n",
    "\n",
    "Bài toán yêu cầu tìm tốc độ ăn tối thiểu `k` để Koko có thể ăn hết số chuối trong các đống `piles` trong thời gian `h` giờ. Chúng ta có thể sử dụng phương pháp tìm kiếm nhị phân để tìm tốc độ tối ưu một cách hiệu quả.\n",
    "\n",
    "\n",
    "1. **Hiểu bài toán**:\n",
    "   - Chúng ta cần xác định tốc độ ăn `k` sao cho Koko có thể ăn hết tất cả các đống chuối trong `h` giờ.\n",
    "   - Mỗi giờ, Koko có thể chọn bất kỳ đống nào và ăn `k` quả chuối từ đống đó. Nếu đống có ít hơn `k` quả chuối, Koko sẽ ăn hết và chuyển sang giờ tiếp theo.\n",
    "\n",
    "2. **Sử dụng tìm kiếm nhị phân**:\n",
    "   - Chúng ta có thể sử dụng tìm kiếm nhị phân để xác định tốc độ `k` tối ưu.\n",
    "   - Giá trị nhỏ nhất của `k` là `1` (tốc độ chậm nhất).\n",
    "   - Giá trị lớn nhất của `k` là số quả chuối lớn nhất trong một đống (`max(piles)`), vì không cần ăn nhiều hơn số quả chuối trong đống lớn nhất mỗi giờ.\n",
    "\n",
    "3. **Hàm hỗ trợ**:\n",
    "   - Chúng ta cần một hàm hỗ trợ `canEatAll(piles, k, h)` để kiểm tra xem Koko có thể ăn hết chuối với tốc độ `k` trong `h` giờ hay không.\n",
    "   - Hàm này tính tổng thời gian cần thiết để ăn hết các đống chuối với tốc độ `k`. Nếu tổng thời gian nhỏ hơn hoặc bằng `h`, thì tốc độ `k` là khả thi.\n",
    "\n",
    "4. **Triển khai tìm kiếm nhị phân**:\n",
    "   - Tính toán giá trị trung bình của `low` và `high` và kiểm tra xem tốc độ trung bình này có khả thi hay không.\n",
    "   - Điều chỉnh phạm vi tìm kiếm dựa trên kết quả của hàm `canEatAll`.\n",
    "\n",
    "\n",
    "### Giải thích mã\n",
    "\n",
    "1. **Hàm hỗ trợ**:\n",
    "   - `canEatAll(piles, k, h)`: Hàm này kiểm tra xem Koko có thể ăn hết số chuối trong `h` giờ với tốc độ `k` hay không. Nó tính tổng thời gian cần thiết bằng cách cộng dồn số giờ cần thiết cho từng đống chuối với tốc độ `k` sử dụng công thức `(pile + k - 1) // k` (tương đương với `math.ceil(pile / k)`).\n",
    "\n",
    "2. **Tìm kiếm nhị phân**:\n",
    "   - Khởi tạo `low` là `1` và `high` là `max(piles)`.\n",
    "   - Trong khi `low` nhỏ hơn `high`, tính giá trị trung bình `mid`.\n",
    "   - Sử dụng hàm `canEatAll` để kiểm tra xem tốc độ `mid` có khả thi hay không.\n",
    "   - Điều chỉnh `low` và `high` dựa trên tính khả thi của `mid`.\n",
    "   - Trả về `low` là tốc độ khả thi nhỏ nhất.\n",
    "\n",
    "Phương pháp này đảm bảo chúng ta tìm được tốc độ ăn tối ưu một cách hiệu quả với độ phức tạp thời gian O(log(m * n)), phù hợp với các ràng buộc của bài toán."
   ]
  }
 ],
 "metadata": {
  "kernelspec": {
   "display_name": "Python 3",
   "language": "python",
   "name": "python3"
  },
  "language_info": {
   "codemirror_mode": {
    "name": "ipython",
    "version": 3
   },
   "file_extension": ".py",
   "mimetype": "text/x-python",
   "name": "python",
   "nbconvert_exporter": "python",
   "pygments_lexer": "ipython3",
   "version": "3.12.2"
  }
 },
 "nbformat": 4,
 "nbformat_minor": 2
}
