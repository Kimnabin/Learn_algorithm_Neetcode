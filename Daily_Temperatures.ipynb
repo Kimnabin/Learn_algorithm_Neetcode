{
 "cells": [
  {
   "cell_type": "markdown",
   "metadata": {},
   "source": [
    "# Daily Temperatures\n",
    "\n",
    "Given an array of integers temperatures represents the daily temperatures, return an array answer such that answer[i] is the number of days you have to wait after the ith day to get a warmer temperature. If there is no future day for which this is possible, keep answer[i] == 0 instead.\n",
    "\n",
    " \n",
    "\n",
    "Example 1:\n",
    "\n",
    "- `Input: temperatures = [73,74,75,71,69,72,76,73]`\n",
    "- `Output: [1,1,4,2,1,1,0,0]`\n",
    "\n",
    "Example 2:\n",
    "\n",
    "- `Input: temperatures = [30,40,50,60]`\n",
    "- `Output: [1,1,1,0]`\n",
    "\n",
    "Example 3:\n",
    "\n",
    "- `Input: temperatures = [30,60,90]`\n",
    "- `Output: [1,1,0]`\n",
    " \n",
    "\n",
    "Constraints:\n",
    "\n",
    "- `1 <= temperatures.length <= 105`\n",
    "- `30 <= temperatures[i] <= 100`"
   ]
  },
  {
   "cell_type": "code",
   "execution_count": 1,
   "metadata": {},
   "outputs": [
    {
     "name": "stdout",
     "output_type": "stream",
     "text": [
      "[1, 1, 4, 2, 1, 1, 0, 0]\n"
     ]
    }
   ],
   "source": [
    "class Solution:\n",
    "    def dailyTemperatures(self, temps):\n",
    "        results = [0] * len(temps)  # Khởi tạo danh sách kết quả với tất cả phần tử bằng 0\n",
    "        stack = []  # Khởi tạo ngăn xếp để lưu trữ các chỉ số của các ngày\n",
    "\n",
    "        for i, temp in enumerate(temps):\n",
    "            # Kiểm tra nếu ngăn xếp không trống và nhiệt độ hiện tại cao hơn nhiệt độ của ngày được lưu trong ngăn xếp\n",
    "            while stack and temps[stack[-1]] < temp:\n",
    "                index = stack.pop()\n",
    "                results[index] = i - index  # Cập nhật số ngày cần đợi cho ngày đó\n",
    "            stack.append(i)  # Đẩy chỉ số hiện tại vào ngăn xếp\n",
    "\n",
    "        return results\n",
    "    \n",
    "# Test case\n",
    "temperatures = [73, 74, 75, 71, 69, 72, 76, 73]\n",
    "print(Solution().dailyTemperatures(temperatures))  # Kết quả mong đợi: [1, 1, 4, 2, 1, 1, 0, 0]\n"
   ]
  },
  {
   "cell_type": "markdown",
   "metadata": {},
   "source": [
    "\n",
    "\n",
    "### Giải thích mã\n",
    "\n",
    "Bài toán yêu cầu tìm số ngày phải đợi để có ngày có nhiệt độ cao hơn cho mỗi ngày. \n",
    "\n",
    "1. **Khởi tạo**:\n",
    "   - `results`: Một danh sách với cùng độ dài như `temps`, khởi tạo tất cả các phần tử bằng 0. Danh sách này sẽ lưu trữ kết quả cuối cùng.\n",
    "   - `stack`: Sử dụng một ngăn xếp để lưu trữ các chỉ số của các ngày mà chúng ta chưa tìm thấy ngày nào có nhiệt độ cao hơn.\n",
    "\n",
    "2. **Duyệt qua danh sách nhiệt độ**:\n",
    "   - Sử dụng `enumerate` để có cả chỉ số `i` và giá trị `temp` của nhiệt độ.\n",
    "   - Sử dụng vòng lặp `while` để kiểm tra ngăn xếp. Nếu nhiệt độ hiện tại (`temp`) cao hơn nhiệt độ của ngày được lưu trong ngăn xếp (`temps[stack[-1]]`), chúng ta sẽ cập nhật kết quả cho ngày đó. Số ngày cần đợi sẽ là `i - index` (chỉ số hiện tại trừ đi chỉ số trong ngăn xếp).\n",
    "   - Đẩy chỉ số hiện tại `i` vào ngăn xếp.\n",
    "\n",
    "3. **Trả về kết quả**:\n",
    "   - Sau khi duyệt qua tất cả các nhiệt độ, danh sách `results` sẽ chứa số ngày cần đợi để có nhiệt độ cao hơn cho mỗi ngày.\n",
    "\n",
    "\n",
    "\n",
    "### Kết quả\n",
    "\n",
    "Khi chạy mã trên, bạn sẽ nhận được kết quả sau:\n",
    "\n",
    "```python\n",
    "[1, 1, 4, 2, 1, 1, 0, 0]\n",
    "```\n",
    "\n",
    "Mã này sử dụng ngăn xếp để giải quyết bài toán với độ phức tạp thời gian là \\(O(n)\\), trong đó \\(n\\) là số lượng phần tử trong danh sách `temps`. Đây là một giải pháp hiệu quả cho bài toán này."
   ]
  }
 ],
 "metadata": {
  "kernelspec": {
   "display_name": "Python 3",
   "language": "python",
   "name": "python3"
  },
  "language_info": {
   "codemirror_mode": {
    "name": "ipython",
    "version": 3
   },
   "file_extension": ".py",
   "mimetype": "text/x-python",
   "name": "python",
   "nbconvert_exporter": "python",
   "pygments_lexer": "ipython3",
   "version": "3.12.2"
  }
 },
 "nbformat": 4,
 "nbformat_minor": 2
}
