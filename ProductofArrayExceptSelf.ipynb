{
 "cells": [
  {
   "cell_type": "markdown",
   "metadata": {},
   "source": [
    "# Products of Array Discluding Self\n",
    "\n",
    "Given an integer array nums, return an array output where output[i] is the product of all the elements of nums except nums[i].\n",
    "\n",
    "Each product is guaranteed to fit in a 32-bit integer.\n",
    "\n",
    "Follow-up: Could you solve it in \n",
    "𝑂\n",
    "(\n",
    "𝑛\n",
    ")\n",
    "O(n) time without using the division operation?\n",
    "\n",
    "Example 1:\n",
    "\n",
    "        Input: nums = [1,2,4,6]\n",
    "\n",
    "        Output: [48,24,12,8]\n",
    "\n",
    "Example 2:\n",
    "\n",
    "        Input: nums = [-1,0,1,2,3]\n",
    "\n",
    "        Output: [0,-6,0,0,0]\n",
    "\n",
    "Constraints:\n",
    "\n",
    "        2 <= nums.length <= 1000\n",
    "\n",
    "        -20 <= nums[i] <= 20\n"
   ]
  },
  {
   "cell_type": "code",
   "execution_count": 8,
   "metadata": {},
   "outputs": [],
   "source": [
    "class Solution: \n",
    "    def productExceptSelf(self, nums):\n",
    "        # Create a result list with initial values of 1\n",
    "        res = [1] * (len(nums))\n",
    "        \n",
    "        # Calculate the product of all elements to the left of each element\n",
    "        for i in range(1, len(nums)):\n",
    "            res[i] = res[i-1] * nums[i-1]\n",
    "        \n",
    "        # Calculate the product of all elements to the right of each element\n",
    "        postfix = 1\n",
    "        for i in range(len(nums) -1 , -1, -1):\n",
    "            res[i] *= postfix\n",
    "            postfix *= nums[i]\n",
    "        \n",
    "        # Return the final result list\n",
    "        return res"
   ]
  },
  {
   "cell_type": "code",
   "execution_count": 11,
   "metadata": {},
   "outputs": [
    {
     "name": "stdout",
     "output_type": "stream",
     "text": [
      "[24, 12, 8, 6]\n"
     ]
    }
   ],
   "source": [
    "nums = [1,2,3,4]\n",
    "sol = Solution().productExceptSelf(nums)\n",
    "\n",
    "print(sol)"
   ]
  },
  {
   "cell_type": "markdown",
   "metadata": {},
   "source": [
    "Cách thức hoạt động của phương thức như sau:\n",
    "\n",
    "Khởi tạo danh sách kết quả (res): Tạo một danh sách res với kích thước bằng với danh sách đầu vào nums, khởi tạo tất cả các giá trị trong danh sách này là 1. Điều này đảm bảo rằng phép nhân ban đầu sẽ không thay đổi giá trị của phần tử.\n",
    "\n",
    "Tính toán tích các phần tử bên trái của mỗi phần tử: Duyệt qua danh sách nums từ trái sang phải (bắt đầu từ vị trí thứ hai), cập nhật mỗi phần tử của res tại vị trí i bằng tích của phần tử trước đó trong res và phần tử trước đó trong nums. Điều này tính toán tích của tất cả các phần tử bên trái của phần tử hiện tại.\n",
    "\n",
    "Tính toán tích các phần tử bên phải của mỗi phần tử: Khởi tạo một biến postfix với giá trị 1 để giữ tích của các phần tử bên phải của phần tử hiện tại. Duyệt qua danh sách nums từ phải sang trái, cập nhật mỗi phần tử của res tại vị trí i bằng cách nhân với postfix (tích của các phần tử bên phải), sau đó cập nhật postfix bằng cách nhân với phần tử hiện tại trong nums.\n",
    "\n",
    "Trả về danh sách kết quả (res): Sau khi hoàn thành cả hai bước tính toán trên, danh sách res sẽ chứa tích của tất cả các phần tử trừ phần tử tại vị trí đó cho mỗi phần tử trong danh sách đầu vào nums. Phương thức trả về danh sách res này.\n",
    "\n",
    "Ví dụ, nếu nums = [1,2,3,4], phương thức sẽ trả về [24,12,8,6], vì:\n",
    "\n",
    "    Phần tử đầu tiên (24) là tích của 2*3*4\n",
    "    Phần tử thứ hai (12) là tích của 1*3*4\n",
    "    Phần tử thứ ba (8) là tích của 1*2*4\n",
    "    Phần tử thứ tư (6) là tích của 1*2*3\n"
   ]
  }
 ],
 "metadata": {
  "kernelspec": {
   "display_name": "Python 3",
   "language": "python",
   "name": "python3"
  },
  "language_info": {
   "codemirror_mode": {
    "name": "ipython",
    "version": 3
   },
   "file_extension": ".py",
   "mimetype": "text/x-python",
   "name": "python",
   "nbconvert_exporter": "python",
   "pygments_lexer": "ipython3",
   "version": "3.12.2"
  }
 },
 "nbformat": 4,
 "nbformat_minor": 2
}
