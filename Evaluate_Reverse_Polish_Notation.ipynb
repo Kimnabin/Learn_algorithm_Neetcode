{
 "cells": [
  {
   "cell_type": "markdown",
   "metadata": {},
   "source": [
    "# Evaluate Reverse Polish Notation\n",
    "\n",
    "You are given an array of strings tokens that represents an arithmetic expression in a Reverse Polish Notation.\n",
    "\n",
    "Evaluate the expression. Return an integer that represents the value of the expression.\n",
    "\n",
    "Note that:\n",
    "\n",
    "- `The valid operators are '+', '-', '*', and '/'.`\n",
    "- `Each operand may be an integer or another expression.`\n",
    "- `The division between two integers always truncates toward zero.`\n",
    "- `There will not be any division by zero.`\n",
    "- `The input represents a valid arithmetic expression in a reverse polish notation.`\n",
    "- `The answer and all the intermediate calculations can be represented in a 32-bit integer.`\n",
    "    \n",
    "\n",
    "Example 1:\n",
    "\n",
    "    Input: tokens = [\"2\",\"1\",\"+\",\"3\",\"*\"]\n",
    "    Output: 9\n",
    "    Explanation: ((2 + 1) * 3) = 9\n",
    "Example 2:\n",
    "\n",
    "    Input: tokens = [\"4\",\"13\",\"5\",\"/\",\"+\"]\n",
    "    Output: 6\n",
    "    Explanation: (4 + (13 / 5)) = 6\n",
    "Example 3:\n",
    "\n",
    "    Input: tokens = [\"10\",\"6\",\"9\",\"3\",\"+\",\"-11\",\"*\",\"/\",\"*\",\"17\",\"+\",\"5\",\"+\"]\n",
    "    Output: 22\n",
    "    Explanation: ((10 * (6 / ((9 + 3) * -11))) + 17) + 5\n",
    "    = ((10 * (6 / (12 * -11))) + 17) + 5\n",
    "    = ((10 * (6 / -132)) + 17) + 5\n",
    "    = ((10 * 0) + 17) + 5\n",
    "    = (0 + 17) + 5\n",
    "    = 17 + 5\n",
    "    = 22\n",
    " \n",
    "\n",
    "Constraints:\n",
    "\n",
    "- `1 <= tokens.length <= 104`\n",
    "- `tokens[i] is either an operator: \"+\", \"-\", \"*\", or \"/\", or an integer in the range [-200, 200].`"
   ]
  },
  {
   "cell_type": "code",
   "execution_count": 4,
   "metadata": {},
   "outputs": [
    {
     "name": "stdout",
     "output_type": "stream",
     "text": [
      "9\n"
     ]
    }
   ],
   "source": [
    "# Evaluate Reverse Polish Notation\n",
    "\n",
    "# Define the tokens list\n",
    "tokens = ['2', '1', '+', '3', '*']\n",
    "\n",
    "# Create a Solution class\n",
    "class Solution:\n",
    "    def evalRPN(tokens):\n",
    "        stack = []\n",
    "        for token in tokens:\n",
    "            if token not in \"+-*/\":\n",
    "                stack.append(int(token))\n",
    "            else:\n",
    "                right = stack.pop()\n",
    "                left = stack.pop()\n",
    "                if token == '+':\n",
    "                    stack.append(left + right)\n",
    "                elif token == '-':\n",
    "                    stack.append(left - right)\n",
    "                elif token == '*':\n",
    "                    stack.append(left * right)\n",
    "                elif token == '/':\n",
    "                    # The division between two integers should truncate toward zero\n",
    "                    stack.append(int(left / right))\n",
    "        return stack.pop()\n",
    "\n",
    "# Call the evalRPN function with the tokens list\n",
    "print(Solution.evalRPN(tokens))\n"
   ]
  },
  {
   "cell_type": "code",
   "execution_count": 5,
   "metadata": {},
   "outputs": [
    {
     "name": "stdout",
     "output_type": "stream",
     "text": [
      "6\n"
     ]
    }
   ],
   "source": [
    "tokens2 = [\"4\",\"13\",\"5\",\"/\",\"+\"]\n",
    "print(Solution.evalRPN(tokens2))\n"
   ]
  },
  {
   "cell_type": "code",
   "execution_count": 6,
   "metadata": {},
   "outputs": [
    {
     "name": "stdout",
     "output_type": "stream",
     "text": [
      "22\n"
     ]
    }
   ],
   "source": [
    "tokens3 = [\"10\",\"6\",\"9\",\"3\",\"+\",\"-11\",\"*\",\"/\",\"*\",\"17\",\"+\",\"5\",\"+\"]\n",
    "print(Solution.evalRPN(tokens3))"
   ]
  },
  {
   "cell_type": "markdown",
   "metadata": {},
   "source": [
    "Đoạn mã của bạn để đánh giá Biểu thức Đảo ngược Ba Lan (Reverse Polish Notation - RPN) gần như hoàn chỉnh. Tuy nhiên, có một lỗi nhỏ trong việc định nghĩa phương thức `evalRPN` mà không sử dụng tham chiếu đến đối tượng `self`. Để phương thức có thể được gọi thông qua một đối tượng của lớp `Solution`, cần thêm tham số `self` trong định nghĩa phương thức. Dưới đây là đoạn mã đã được sửa đổi và giải thích chi tiết:\n",
    "\n",
    "```python\n",
    "# Define the tokens list\n",
    "tokens = ['2', '1', '+', '3', '*']\n",
    "\n",
    "# Create a Solution class\n",
    "class Solution:\n",
    "    def evalRPN(self, tokens):\n",
    "        stack = []\n",
    "        for token in tokens:\n",
    "            if token not in \"+-*/\":\n",
    "                stack.append(int(token))\n",
    "            else:\n",
    "                right = stack.pop()\n",
    "                left = stack.pop()\n",
    "                if token == '+':\n",
    "                    stack.append(left + right)\n",
    "                elif token == '-':\n",
    "                    stack.append(left - right)\n",
    "                elif token == '*':\n",
    "                    stack.append(left * right)\n",
    "                elif token == '/':\n",
    "                    # The division between two integers should truncate toward zero\n",
    "                    stack.append(int(left / right))\n",
    "        return stack.pop()\n",
    "\n",
    "# Create an instance of the Solution class\n",
    "solution = Solution()\n",
    "\n",
    "# Call the evalRPN function with the tokens list\n",
    "print(solution.evalRPN(tokens))  # Expected output is 9\n",
    "```\n",
    "\n",
    "1. **Danh sách tokens**: `tokens` chứa biểu thức RPN mà bạn muốn đánh giá. Trong trường hợp này, biểu thức là `['2', '1', '+', '3', '*']`.\n",
    "\n",
    "2. **Lớp Solution**: Lớp này chứa một phương thức `evalRPN` để đánh giá biểu thức RPN.\n",
    "    - **Phương thức evalRPN**:\n",
    "        - Khởi tạo một ngăn xếp (`stack`) trống.\n",
    "        - Duyệt qua từng `token` trong `tokens`.\n",
    "        - Nếu `token` không phải là một toán tử (`+`, `-`, `*`, `/`), chuyển đổi nó thành số nguyên và đẩy vào ngăn xếp.\n",
    "        - Nếu `token` là một toán tử, bật hai số khỏi ngăn xếp (`right` và `left`), thực hiện phép toán tương ứng, và đẩy kết quả trở lại ngăn xếp.\n",
    "        - Cuối cùng, giá trị cuối cùng trong ngăn xếp là kết quả của biểu thức RPN.\n",
    "\n",
    "3. **Tạo một đối tượng của lớp Solution**: Tạo đối tượng `solution`.\n",
    "\n",
    "4. **Gọi phương thức evalRPN**: Gọi phương thức `evalRPN` với đối tượng `solution` và danh sách `tokens`, sau đó in kết quả.\n",
    "\n",
    "### Kết quả:\n",
    "Biểu thức RPN `['2', '1', '+', '3', '*']` sẽ được đánh giá như sau:\n",
    "- `2 1 +` thành `3`\n",
    "- `3 3 *` thành `9`\n",
    "Kết quả cuối cùng sẽ là `9`, và đó là giá trị được in ra."
   ]
  }
 ],
 "metadata": {
  "kernelspec": {
   "display_name": "Python 3",
   "language": "python",
   "name": "python3"
  },
  "language_info": {
   "codemirror_mode": {
    "name": "ipython",
    "version": 3
   },
   "file_extension": ".py",
   "mimetype": "text/x-python",
   "name": "python",
   "nbconvert_exporter": "python",
   "pygments_lexer": "ipython3",
   "version": "3.12.2"
  }
 },
 "nbformat": 4,
 "nbformat_minor": 2
}
