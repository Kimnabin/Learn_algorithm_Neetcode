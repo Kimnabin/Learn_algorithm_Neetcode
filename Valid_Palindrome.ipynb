{
 "cells": [
  {
   "cell_type": "markdown",
   "metadata": {},
   "source": [
    "# Valid Palindrome\n",
    "\n",
    "A phrase is a palindrome if, after converting all uppercase letters into lowercase letters and removing all non-alphanumeric characters, it reads the same forward and backward. Alphanumeric characters include letters and numbers.\n",
    "\n",
    "Given a string s, return true if it is a palindrome, or false otherwise.\n",
    "\n",
    " \n",
    "\n",
    "Example 1:\n",
    "\n",
    "    Input: s = \"A man, a plan, a canal: Panama\"\n",
    "    Output: true\n",
    "Explanation: \"amanaplanacanalpanama\" is a palindrome.\n",
    "Example 2:\n",
    "\n",
    "    Input: s = \"race a car\"\n",
    "    Output: false\n",
    "Explanation: \"raceacar\" is not a palindrome.\n",
    "Example 3:\n",
    "\n",
    "    Input: s = \" \"\n",
    "    Output: true\n",
    "Explanation: s is an empty string \"\" after removing non-alphanumeric characters.\n",
    "Since an empty string reads the same forward and backward, it is a palindrome.\n",
    " \n",
    "\n",
    "Constraints:\n",
    "\n",
    "    1 <= s.length <= 2 * 105\n",
    "    s consists only of printable ASCII characters."
   ]
  },
  {
   "cell_type": "markdown",
   "metadata": {},
   "source": [
    "# This is Solution using operator ~  \n",
    "\n",
    "    Operator ~ is the bitwise NOT operator. It performs logical negation on a given number by flipping all of its bits: ~x == -x-1 , ~0 == -1, ~1 == -2 and etc."
   ]
  },
  {
   "cell_type": "code",
   "execution_count": 1,
   "metadata": {},
   "outputs": [
    {
     "name": "stdout",
     "output_type": "stream",
     "text": [
      "True\n",
      "False\n"
     ]
    }
   ],
   "source": [
    "class Solution:\n",
    "    def isPalindrome(self, s):\n",
    "        # Lọc và chuyển đổi các ký tự thành chữ thường, chỉ giữ lại các ký tự chữ và số\n",
    "        filtered_chars = [c.lower() for c in s if c.isalnum()]\n",
    "        # Kiểm tra nếu chuỗi là palindrome\n",
    "        return all(filtered_chars[i] == filtered_chars[~i] for i in range(len(filtered_chars) // 2))\n",
    "\n",
    "# Test cases\n",
    "s = \"A man, a plan, a canal: Panama\"\n",
    "s1 = \"race a car\"\n",
    "\n",
    "sol = Solution()\n",
    "print(sol.isPalindrome(s))  # Kết quả mong đợi: True\n",
    "print(sol.isPalindrome(s1))  # Kết quả mong đợi: False\n"
   ]
  },
  {
   "cell_type": "markdown",
   "metadata": {},
   "source": [
    "\n",
    "\n",
    "### Giải thích mã\n",
    "\n",
    "1. **Chuẩn hóa chuỗi**:\n",
    "   - `s = [c.lower() for c in s if c.isalnum()]`: Tạo một danh sách các ký tự trong chuỗi `s` mà là chữ hoặc số (`isalnum()`), và chuyển đổi tất cả các ký tự này thành chữ thường (`lower()`).\n",
    "\n",
    "2. **Kiểm tra palindrome**:\n",
    "   - `return all(s[i] == s[~i] for i in range(len(s) // 2))`: Sử dụng biểu thức `all` để kiểm tra nếu tất cả các ký tự trong nửa đầu của chuỗi bằng với các ký tự tương ứng từ cuối chuỗi.\n",
    "     - `s[i] == s[~i]`: So sánh ký tự thứ `i` với ký tự thứ `~i`. Toán tử `~` là toán tử bitwise NOT, nghĩa là `~i` tương đương với `-(i + 1)`, điều này cho phép chúng ta truy cập vào các ký tự từ cuối chuỗi.\n",
    "\n",
    "\n",
    "### Giải thích kết quả\n",
    "\n",
    "- `\"A man, a plan, a canal: Panama\"` là một chuỗi palindrome sau khi loại bỏ các ký tự không phải là chữ hoặc số và chuyển đổi thành chữ thường: `\"amanaplanacanalpanama\"`.\n",
    "- `\"race a car\"` không phải là một chuỗi palindrome sau khi loại bỏ các ký tự không phải là chữ hoặc số và chuyển đổi thành chữ thường: `\"raceacar\"`.\n",
    "\n",
    "### Tổng kết\n",
    "\n",
    "Phương pháp này sử dụng danh sách lọc và so sánh ký tự để kiểm tra xem chuỗi có phải là palindrome hay không với độ phức tạp thời gian là \\(O(n)\\), trong đó \\(n\\) là số lượng ký tự trong chuỗi. Đây là một giải pháp hiệu quả và dễ hiểu cho bài toán này."
   ]
  },
  {
   "cell_type": "markdown",
   "metadata": {},
   "source": [
    "# This is Solution using two pointers:"
   ]
  },
  {
   "cell_type": "code",
   "execution_count": 2,
   "metadata": {},
   "outputs": [
    {
     "name": "stdout",
     "output_type": "stream",
     "text": [
      "True\n",
      "False\n"
     ]
    }
   ],
   "source": [
    "class Solution:\n",
    "    def isPalindrome(self, s):\n",
    "        left, right = 0, len(s) - 1\n",
    "        \n",
    "        while left < right:\n",
    "            # Bỏ qua các ký tự không phải là chữ hoặc số từ đầu chuỗi\n",
    "            while left < right and not s[left].isalnum():\n",
    "                left += 1\n",
    "            # Bỏ qua các ký tự không phải là chữ hoặc số từ cuối chuỗi\n",
    "            while left < right and not s[right].isalnum():\n",
    "                right -= 1\n",
    "            # So sánh các ký tự từ hai con trỏ\n",
    "            if s[left].lower() != s[right].lower():\n",
    "                return False\n",
    "            # Di chuyển con trỏ\n",
    "            left += 1\n",
    "            right -= 1\n",
    "            \n",
    "        return True\n",
    "\n",
    "# Test cases\n",
    "s = \"A man, a plan, a canal: Panama\"\n",
    "s1 = \"race a car\"\n",
    "\n",
    "sol = Solution()\n",
    "print(sol.isPalindrome(s))   # Kết quả mong đợi: True\n",
    "print(sol.isPalindrome(s1))  # Kết quả mong đợi: False\n"
   ]
  },
  {
   "cell_type": "markdown",
   "metadata": {},
   "source": [
    "### Giải thích mã\n",
    "\n",
    "1. **Khởi tạo con trỏ**:\n",
    "   - `i, j = 0, len(s) - 1`: Khởi tạo hai con trỏ `i` và `j` tại đầu và cuối chuỗi `s`.\n",
    "\n",
    "2. **Duyệt qua chuỗi**:\n",
    "   - Sử dụng vòng lặp `while i < j` để tiếp tục kiểm tra cho đến khi hai con trỏ gặp nhau.\n",
    "   - Bỏ qua các ký tự không phải là chữ hoặc số từ đầu chuỗi:\n",
    "     - `while i < j and not s[i].isalnum(): i += 1`\n",
    "   - Bỏ qua các ký tự không phải là chữ hoặc số từ cuối chuỗi:\n",
    "     - `while i < j and not s[j].isalnum(): j -= 1`\n",
    "   - So sánh các ký tự hiện tại từ hai con trỏ:\n",
    "     - `if s[i].lower() != s[j].lower()`: Nếu không khớp, trả về `False`.\n",
    "   - Di chuyển con trỏ:\n",
    "     - `i += 1`\n",
    "     - `j -= 1`\n",
    "\n",
    "3. **Trả về kết quả**:\n",
    "   - Nếu tất cả các ký tự đều khớp, trả về `True`.\n",
    "\n",
    "\n",
    "### Giải thích kết quả\n",
    "\n",
    "- `\"A man, a plan, a canal: Panama\"` là một chuỗi palindrome sau khi loại bỏ các ký tự không phải là chữ hoặc số và chuyển đổi thành chữ thường: `\"amanaplanacanalpanama\"`.\n",
    "- `\"race a car\"` không phải là một chuỗi palindrome sau khi loại bỏ các ký tự không phải là chữ hoặc số và chuyển đổi thành chữ thường: `\"raceacar\"`.\n",
    "\n",
    "### Tổng kết\n",
    "\n",
    "Phương pháp này sử dụng hai con trỏ để kiểm tra xem chuỗi có phải là palindrome hay không với độ phức tạp thời gian là \\(O(n)\\), trong đó \\(n\\) là số lượng ký tự trong chuỗi. Đây là một giải pháp hiệu quả và dễ hiểu cho bài toán này."
   ]
  }
 ],
 "metadata": {
  "kernelspec": {
   "display_name": "Python 3",
   "language": "python",
   "name": "python3"
  },
  "language_info": {
   "codemirror_mode": {
    "name": "ipython",
    "version": 3
   },
   "file_extension": ".py",
   "mimetype": "text/x-python",
   "name": "python",
   "nbconvert_exporter": "python",
   "pygments_lexer": "ipython3",
   "version": "3.12.2"
  }
 },
 "nbformat": 4,
 "nbformat_minor": 2
}
