{
 "cells": [
  {
   "cell_type": "markdown",
   "metadata": {},
   "source": [
    "# Longest Consecutive Sequence\n",
    "\n",
    "Given an array of integers `nums`, return the length of the longest consecutive sequence of elements.\n",
    "\n",
    "A consecutive sequence is a sequence of elements in which each element is exactly 1 greater than the previous element.\n",
    "\n",
    "You must write an algorithm that runs in `O(n)` time.\n",
    "\n",
    "## Example 1:\n",
    "\n",
    "**Input:** `nums = [2,20,4,10,3,4,5]`\n",
    "\n",
    "**Output:** `4`\n",
    "\n",
    "**Explanation:** The longest consecutive sequence is `[2, 3, 4, 5]`.\n",
    "\n",
    "## Example 2:\n",
    "\n",
    "**Input:** `nums = [0,3,2,5,4,6,1,1]`\n",
    "\n",
    "**Output:** `7`\n",
    "\n",
    "**Constraints:**\n",
    "\n",
    "- `0 <= nums.length <= 1000`\n",
    "- `-10^9 <= nums[i] <= 10^9`\n"
   ]
  },
  {
   "cell_type": "code",
   "execution_count": 8,
   "metadata": {},
   "outputs": [],
   "source": [
    "class Solution:\n",
    "    def longestConsecutive(self, nums):\n",
    "        # Convert the list of numbers into a set for faster lookup\n",
    "        nums = set(nums)\n",
    "        longest = 0\n",
    "        for num in nums:\n",
    "            # Check if the previous number (num - 1) is not in the set\n",
    "            if num - 1 not in nums:\n",
    "                current_num = num\n",
    "                current_length = 1\n",
    "                # Continue incrementing the current number and length\n",
    "                # as long as the next number (current_num + 1) is in the set\n",
    "                while current_num + 1 in nums:\n",
    "                    current_num += 1\n",
    "                    current_length += 1\n",
    "                # Update the longest length if necessary\n",
    "                longest = max(longest, current_length)\n",
    "        return longest"
   ]
  },
  {
   "cell_type": "code",
   "execution_count": 9,
   "metadata": {},
   "outputs": [
    {
     "name": "stdout",
     "output_type": "stream",
     "text": [
      "4\n"
     ]
    }
   ],
   "source": [
    "\n",
    "\n",
    "nums=[2,20,4,10,3,4,5]\n",
    "\n",
    "sol = Solution.longestConsecutive(0,nums)\n",
    "print(sol)"
   ]
  },
  {
   "cell_type": "markdown",
   "metadata": {},
   "source": [
    "\n",
    "### Giải thích mã\n",
    "\n",
    "1. **Chuyển đổi danh sách thành tập hợp**:\n",
    "   - Việc chuyển đổi danh sách `nums` thành một tập hợp `set` giúp việc tra cứu các phần tử trở nên nhanh chóng hơn.\n",
    "\n",
    "2. **Khởi tạo biến**:\n",
    "   - Biến `longest` được khởi tạo để theo dõi độ dài của chuỗi liên tiếp dài nhất.\n",
    "\n",
    "3. **Duyệt qua tập hợp**:\n",
    "   - Với mỗi số `num` trong tập hợp, kiểm tra xem `num - 1` có nằm trong tập hợp hay không. Điều này giúp xác định liệu `num` có phải là khởi đầu của một chuỗi liên tiếp hay không.\n",
    "\n",
    "4. **Tìm chuỗi liên tiếp**:\n",
    "   - Nếu `num` là khởi đầu của một chuỗi liên tiếp (nghĩa là `num - 1` không có trong tập hợp), bắt đầu đếm độ dài chuỗi từ `num` và tiếp tục tăng `current_num` miễn là `current_num + 1` vẫn nằm trong tập hợp.\n",
    "\n",
    "5. **Cập nhật độ dài chuỗi dài nhất**:\n",
    "   - So sánh độ dài chuỗi hiện tại (`current_length`) với `longest` và cập nhật nếu cần.\n",
    "\n",
    "\n",
    "\n",
    "```python\n",
    "class Solution:\n",
    "    def longestConsecutive(self, nums):\n",
    "        # Chuyển đổi danh sách các số thành một tập hợp để tra cứu nhanh hơn\n",
    "        nums = set(nums)\n",
    "        longest = 0\n",
    "\n",
    "        for num in nums:\n",
    "            # Kiểm tra nếu số trước đó không nằm trong tập hợp\n",
    "            # Điều này giúp xác định num là khởi đầu của một chuỗi liên tiếp\n",
    "            if num - 1 not in nums:\n",
    "                current_num = num\n",
    "                current_length = 1\n",
    "\n",
    "                # Tiếp tục tăng current_num và current_length\n",
    "                # miễn là số tiếp theo (current_num + 1) nằm trong tập hợp\n",
    "                while current_num + 1 in nums:\n",
    "                    current_num += 1\n",
    "                    current_length += 1\n",
    "\n",
    "                # Cập nhật độ dài chuỗi dài nhất nếu cần\n",
    "                longest = max(longest, current_length)\n",
    "\n",
    "        return longest\n",
    "```\n",
    "\n",
    "### Ví dụ sử dụng\n",
    "\n",
    "Để sử dụng lớp `Solution` và tìm chuỗi liên tiếp dài nhất, bạn có thể làm như sau:\n",
    "\n",
    "```python\n",
    "nums = [100, 4, 200, 1, 3, 2]\n",
    "solution = Solution()\n",
    "print(solution.longestConsecutive(nums))  # Kết quả sẽ là 4 (chuỗi liên tiếp dài nhất là [1, 2, 3, 4])\n",
    "```\n"
   ]
  }
 ],
 "metadata": {
  "kernelspec": {
   "display_name": "Python 3",
   "language": "python",
   "name": "python3"
  },
  "language_info": {
   "codemirror_mode": {
    "name": "ipython",
    "version": 3
   },
   "file_extension": ".py",
   "mimetype": "text/x-python",
   "name": "python",
   "nbconvert_exporter": "python",
   "pygments_lexer": "ipython3",
   "version": "3.12.2"
  }
 },
 "nbformat": 4,
 "nbformat_minor": 2
}
