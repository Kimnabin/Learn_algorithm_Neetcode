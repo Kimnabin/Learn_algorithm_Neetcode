{
 "cells": [
  {
   "cell_type": "markdown",
   "metadata": {},
   "source": [
    "# Top K Frequent Elements\n",
    "\n",
    "Given an integer array nums and an integer k, return the k most frequent elements. You may return the answer in any order.\n",
    "\n",
    " \n",
    "\n",
    "Example 1:\n",
    "\n",
    "Input: nums = [1,1,1,2,2,3], k = 2\n",
    "Output: [1,2]\n",
    "Example 2:\n",
    "\n",
    "Input: nums = [1], k = 1\n",
    "Output: [1]\n",
    " \n",
    "\n",
    "Constraints:\n",
    "\n",
    "1 <= nums.length <= 105\n",
    "-104 <= nums[i] <= 104\n",
    "k is in the range [1, the number of unique elements in the array].\n",
    "It is guaranteed that the answer is unique.\n",
    " \n",
    "\n",
    "Follow up: Your algorithm's time complexity must be better than O(n log n), where n is the array's size."
   ]
  },
  {
   "cell_type": "markdown",
   "metadata": {},
   "source": [
    "To solve the problem of finding the top `k` most frequent elements in an array efficiently, we can follow these steps:\n",
    "\n",
    "1. **Count Frequencies**: First, we count the frequency of each element in the array.\n",
    "2. **Use a Heap**: Utilize a heap data structure to keep track of the top `k` most frequent elements. A min-heap is suitable here since it allows us to efficiently keep only the top `k` elements.\n",
    "3. **Extract Results**: Finally, extract the elements from the heap to get the desired result.\n",
    "\n",
    "Given the constraints and the need for an efficient algorithm (better than ( O(n log n) )), using a heap (priority queue) is a good approach. The counting step is ( O(n) ), and maintaining a heap of size ( k ) during insertion is ( Olog k) ). Thus, the overall time complexity will be ( O(n log k) )."
   ]
  },
  {
   "cell_type": "code",
   "execution_count": 1,
   "metadata": {},
   "outputs": [],
   "source": [
    "import heapq\n",
    "from collections import Counter\n",
    "\n",
    "\n",
    "class Solution: \n",
    "    def topKFrequent(self, nums, k):\n",
    "        # step 1: Count frequencies\n",
    "        count = Counter(nums)\n",
    "        \n",
    "        # step 2: Use a heap to keep the top k elements\n",
    "        # we use a min-heap of size k\n",
    "        \n",
    "        heap = []\n",
    "        \n",
    "        for num, freq in count.items():\n",
    "            heapq.heappush(heap, (freq, num))\n",
    "            if len(heap) > k:\n",
    "                heapq.heappop(heap)\n",
    "                \n",
    "        # step 3: Extract elements from the heap\n",
    "        top_k = [num for freq, num in heap]\n",
    "        \n",
    "        return top_k\n",
    "    "
   ]
  },
  {
   "cell_type": "code",
   "execution_count": 2,
   "metadata": {},
   "outputs": [
    {
     "name": "stdout",
     "output_type": "stream",
     "text": [
      "[2, 1]\n"
     ]
    }
   ],
   "source": [
    "nums = [1,1,1,2,2,3]\n",
    "k = 2\n",
    "\n",
    "print(Solution().topKFrequent(nums, k))"
   ]
  },
  {
   "cell_type": "code",
   "execution_count": 3,
   "metadata": {},
   "outputs": [
    {
     "name": "stdout",
     "output_type": "stream",
     "text": [
      "[2, 1]\n",
      "[1]\n"
     ]
    }
   ],
   "source": [
    "import heapq\n",
    "from collections import Counter\n",
    "\n",
    "def topKFrequent(nums, k):\n",
    "    # Step 1: Count frequencies\n",
    "    count = Counter(nums)\n",
    "    \n",
    "    # Step 2: Use a heap to keep the top k elements\n",
    "    # We use a min-heap of size k\n",
    "    heap = []\n",
    "    \n",
    "    for num, freq in count.items():\n",
    "        heapq.heappush(heap, (freq, num))\n",
    "        if len(heap) > k:\n",
    "            heapq.heappop(heap)\n",
    "    \n",
    "    # Step 3: Extract elements from the heap\n",
    "    top_k = [num for freq, num in heap]\n",
    "    \n",
    "    return top_k\n",
    "\n",
    "# Example usage:\n",
    "print(topKFrequent([1,1,1,2,2,3], 2))  # Output: [1, 2]\n",
    "print(topKFrequent([1], 1))  # Output: [1]\n"
   ]
  }
 ],
 "metadata": {
  "kernelspec": {
   "display_name": "Python 3",
   "language": "python",
   "name": "python3"
  },
  "language_info": {
   "codemirror_mode": {
    "name": "ipython",
    "version": 3
   },
   "file_extension": ".py",
   "mimetype": "text/x-python",
   "name": "python",
   "nbconvert_exporter": "python",
   "pygments_lexer": "ipython3",
   "version": "3.12.2"
  }
 },
 "nbformat": 4,
 "nbformat_minor": 2
}
