{
 "cells": [
  {
   "cell_type": "markdown",
   "metadata": {},
   "source": [
    "# Contains Duplicate\n",
    "\n",
    "Given an integer array nums, return true if any value appears at least twice in the array, and return false if every element is distinct.\n",
    "\n",
    " \n",
    "\n",
    "Example 1:\n",
    "\n",
    "Input: nums = [1,2,3,1]\n",
    "Output: true\n",
    "Example 2:\n",
    "\n",
    "Input: nums = [1,2,3,4]\n",
    "Output: false\n",
    "Example 3:\n",
    "\n",
    "Input: nums = [1,1,1,3,3,4,3,2,4,2]\n",
    "Output: true\n",
    " \n",
    "\n",
    "Constraints:\n",
    "\n",
    "1 <= nums.length <= 10^5 \n",
    "\n",
    "-10^9 <= nums[i] <= 10^9"
   ]
  },
  {
   "cell_type": "code",
   "execution_count": 37,
   "metadata": {},
   "outputs": [],
   "source": [
    "# TIME : O(n^2)\n",
    "# SPACE : O(1)\n",
    "\n",
    "nums = [1,2,4,5,6,7,8,9,10,11,12,13]\n",
    "\n",
    "class Solution1:\n",
    "    def containsDuplicate_v1(self, nums) -> bool:\n",
    "        for i in range(len(nums)):\n",
    "            element = nums[i]\n",
    "            for j in range(i+1, len(nums)):\n",
    "                if(nums[j] == element):\n",
    "                    return True\n",
    "        return False\n"
   ]
  },
  {
   "cell_type": "code",
   "execution_count": 34,
   "metadata": {},
   "outputs": [],
   "source": [
    "# TIME : O(n)\n",
    "# SPACE : O(n)\n",
    "\n",
    "class Solution2:\n",
    "    def containsDuplicate_v2(self, nums) -> bool:\n",
    "        return print(len(nums) != len(set(nums)))\n",
    "                     "
   ]
  },
  {
   "cell_type": "code",
   "execution_count": 44,
   "metadata": {},
   "outputs": [],
   "source": [
    "class Solution3:\n",
    "    def containsDuplicate_v3(self, nums) -> bool:\n",
    "        self.seen = set()\n",
    "        for num in nums:\n",
    "            if num in self.seen:\n",
    "                return True\n",
    "            self.seen.add(num)\n",
    "        return False"
   ]
  },
  {
   "cell_type": "code",
   "execution_count": 45,
   "metadata": {},
   "outputs": [
    {
     "name": "stdout",
     "output_type": "stream",
     "text": [
      "True\n",
      "False\n",
      "True\n"
     ]
    }
   ],
   "source": [
    "nums1 = [1,2,3,1]\n",
    "print(Solution3().containsDuplicate_v3(nums1))\n",
    "\n",
    "nums2 = [1,2,3,4]\n",
    "print(Solution3().containsDuplicate_v3(nums2))\n",
    "\n",
    "nums3 = [1,1,1,3,3,4,3,2,4,2]\n",
    "print(Solution3().containsDuplicate_v3(nums3))"
   ]
  }
 ],
 "metadata": {
  "kernelspec": {
   "display_name": "Python 3",
   "language": "python",
   "name": "python3"
  },
  "language_info": {
   "codemirror_mode": {
    "name": "ipython",
    "version": 3
   },
   "file_extension": ".py",
   "mimetype": "text/x-python",
   "name": "python",
   "nbconvert_exporter": "python",
   "pygments_lexer": "ipython3",
   "version": "3.12.2"
  }
 },
 "nbformat": 4,
 "nbformat_minor": 2
}
