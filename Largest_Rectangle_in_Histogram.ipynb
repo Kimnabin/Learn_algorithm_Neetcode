{
 "cells": [
  {
   "cell_type": "markdown",
   "metadata": {},
   "source": [
    "# Largest Rectangle in Histogram\n",
    "\n",
    "Given an array of integers heights representing the histogram's bar height where the width of each bar is 1, return the area of the largest rectangle in the histogram.\n",
    "\n",
    " \n",
    "\n",
    "Example 1:\n",
    "\n",
    "<img src=\"https://assets.leetcode.com/uploads/2021/01/04/histogram.jpg\" />\n",
    "\n",
    "    Input: heights = [2,1,5,6,2,3]\n",
    "    Output: 10\n",
    "\n",
    "Explanation: The above is a histogram where width of each bar is 1.\n",
    "\n",
    "The largest rectangle is shown in the red area, which has an area = 10 units.\n",
    "\n",
    "Example 2:\n",
    "\n",
    "<img src=\"https://assets.leetcode.com/uploads/2021/01/04/histogram-1.jpg\">\n",
    "\n",
    "    Input: heights = [2,4]\n",
    "    Output: 4\n",
    " \n",
    "\n",
    "Constraints:\n",
    "\n",
    "- `1 <= heights.length <= 105`\n",
    "- `0 <= heights[i] <= 104`"
   ]
  },
  {
   "cell_type": "code",
   "execution_count": 4,
   "metadata": {},
   "outputs": [
    {
     "name": "stdout",
     "output_type": "stream",
     "text": [
      "10\n"
     ]
    }
   ],
   "source": [
    "class Solution:\n",
    "    def largestRectangleArea(self, heights):\n",
    "        stack, ans = [], 0\n",
    "        # Thêm một cột 0 vào cuối để xử lý tất cả các cột trong heights\n",
    "        for i, h in enumerate(heights + [0]):\n",
    "            # Khi chiều cao hiện tại nhỏ hơn hoặc bằng chiều cao của cột trên cùng của ngăn xếp\n",
    "            while stack and heights[stack[-1]] >= h:\n",
    "                height = heights[stack.pop()]  # Chiều cao của cột trên cùng của ngăn xếp\n",
    "                # Nếu ngăn xếp trống, chiều rộng là chỉ số hiện tại\n",
    "                width = i if not stack else i - stack[-1] - 1\n",
    "                ans = max(ans, height * width)  # Cập nhật diện tích lớn nhất\n",
    "            stack.append(i)  # Đẩy chỉ số hiện tại vào ngăn xếp\n",
    "        return ans\n",
    "\n",
    "# Test case\n",
    "sol = Solution()\n",
    "heights = [2, 1, 5, 6, 2, 3]\n",
    "print(sol.largestRectangleArea(heights))  # Kết quả mong đợi: 10\n"
   ]
  },
  {
   "cell_type": "markdown",
   "metadata": {},
   "source": [
    "\n",
    "### Giải thích mã\n",
    "\n",
    "1. **Khởi tạo**:\n",
    "   - `stack`: Ngăn xếp để lưu trữ chỉ số của các cột.\n",
    "   - `ans`: Biến để lưu trữ diện tích lớn nhất tìm thấy được.\n",
    "\n",
    "2. **Duyệt qua danh sách chiều cao**:\n",
    "   - Thêm một giá trị `0` vào cuối danh sách `heights` để đảm bảo rằng tất cả các cột sẽ được xử lý khi duyệt qua danh sách.\n",
    "   - Với mỗi cột, kiểm tra nếu ngăn xếp không rỗng và chiều cao của cột hiện tại nhỏ hơn hoặc bằng chiều cao của cột trên cùng của ngăn xếp, tính toán diện tích của hình chữ nhật với chiều cao của cột trên cùng của ngăn xếp.\n",
    "   - Tính chiều rộng của hình chữ nhật:\n",
    "     - Nếu ngăn xếp trống, chiều rộng là chỉ số hiện tại `i`.\n",
    "     - Nếu ngăn xếp không trống, chiều rộng là khoảng cách giữa chỉ số hiện tại và chỉ số của cột trên cùng của ngăn xếp sau khi loại bỏ cột trên cùng, trừ đi 1 (`i - stack[-1] - 1`).\n",
    "   - Cập nhật diện tích lớn nhất `ans` nếu diện tích tính được lớn hơn `ans`.\n",
    "   - Đẩy chỉ số hiện tại vào ngăn xếp.\n",
    "\n",
    "3. **Trả về kết quả**:\n",
    "   - Diện tích lớn nhất `ans`.\n",
    "\n",
    "\n",
    "### Giải thích kết quả\n",
    "\n",
    "- Các cột có chiều cao `[2, 1, 5, 6, 2, 3]`.\n",
    "- Hình chữ nhật lớn nhất có diện tích 10 được hình thành bởi các cột thứ ba và thứ tư với chiều cao 5 và 6 (`5*2 = 10`).\n",
    "\n",
    "### Tổng kết\n",
    "\n",
    "Phương pháp này sử dụng ngăn xếp để theo dõi các cột và tính diện tích của hình chữ nhật một cách hiệu quả với độ phức tạp thời gian là \\(O(n)\\), trong đó \\(n\\) là số lượng cột. Đây là một giải pháp tối ưu cho bài toán này."
   ]
  }
 ],
 "metadata": {
  "kernelspec": {
   "display_name": "Python 3",
   "language": "python",
   "name": "python3"
  },
  "language_info": {
   "codemirror_mode": {
    "name": "ipython",
    "version": 3
   },
   "file_extension": ".py",
   "mimetype": "text/x-python",
   "name": "python",
   "nbconvert_exporter": "python",
   "pygments_lexer": "ipython3",
   "version": "3.12.2"
  }
 },
 "nbformat": 4,
 "nbformat_minor": 2
}
